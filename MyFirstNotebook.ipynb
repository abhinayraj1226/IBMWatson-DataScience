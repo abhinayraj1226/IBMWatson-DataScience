{
    "nbformat_minor": 1, 
    "cells": [
        {
            "source": "<h1>\"My Jupyter Notebook on IBM Data Science Experience\"</h1>", 
            "cell_type": "markdown", 
            "metadata": {
                "collapsed": true
            }
        }, 
        {
            "source": "<b>Abhinay Raj</b>  \nData Sciencetist", 
            "cell_type": "markdown", 
            "metadata": {}
        }, 
        {
            "source": "<i>i am interested in data science because i love working with data and telling some story about data or to predict something with the help of data.</i>", 
            "cell_type": "markdown", 
            "metadata": {}
        }, 
        {
            "source": "<h3>It must be executed and must display an output. Try to keep the code simple (it can even be \"1 + 1\")</h3>", 
            "cell_type": "markdown", 
            "metadata": {}
        }, 
        {
            "source": "1+1\n", 
            "cell_type": "code", 
            "execution_count": 4, 
            "outputs": [
                {
                    "output_type": "execute_result", 
                    "metadata": {}, 
                    "data": {
                        "text/plain": "2"
                    }, 
                    "execution_count": 4
                }
            ], 
            "metadata": {}
        }, 
        {
            "source": "1+2-3*6/2", 
            "cell_type": "code", 
            "execution_count": 5, 
            "outputs": [
                {
                    "output_type": "execute_result", 
                    "metadata": {}, 
                    "data": {
                        "text/plain": "-6.0"
                    }, 
                    "execution_count": 5
                }
            ], 
            "metadata": {}
        }, 
        {
            "source": "<table>\n<ul style=\"list-style-type:circle;>\n  <li>Coffee</li>\n  <li>Tea</li>\n  <li>Milk</li>\n</ul>\n    </table>\n", 
            "cell_type": "markdown", 
            "metadata": {}
        }, 
        {
            "source": "<ul style=\"list-style-type:circle;\">\n    <li><a href=\"ibm.com\">IBM Watson</a></li>\n  <li>Tea</li>\n  <li>Milk</li>\n</ul>\n<ol>\n  <li>Coffee</li>\n  <li>Tea</li>\n  <li>Milk</li>\n</ol>", 
            "cell_type": "markdown", 
            "metadata": {}
        }
    ], 
    "nbformat": 4, 
    "metadata": {
        "kernelspec": {
            "display_name": "Python 3.6", 
            "name": "python3", 
            "language": "python"
        }, 
        "language_info": {
            "mimetype": "text/x-python", 
            "nbconvert_exporter": "python", 
            "version": "3.6.8", 
            "name": "python", 
            "pygments_lexer": "ipython3", 
            "file_extension": ".py", 
            "codemirror_mode": {
                "version": 3, 
                "name": "ipython"
            }
        }
    }
}